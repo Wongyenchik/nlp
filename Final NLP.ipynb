{
 "cells": [
  {
   "cell_type": "markdown",
   "id": "434cf796",
   "metadata": {},
   "source": [
    "<a id = '0'></a>\n",
    "<h2 style = \"font-family: garamond; font-size: 40px; font-style: normal; letter-spcaing: 3px; background-color: black; color : white; border-radius: 5px 5px; text-align:center; font-weight: bold\" >Table of Contents</h2> \n",
    "\n",
    "1. [Overview](#1.0)\n",
    "2. [Study the data](#2.0)\n",
    "3. [Data Cleaning](#3.0)\n",
    "4. [Feature Extraction](#4.0)\n",
    "5. [Model Building](#5.0)\n",
    "      - [Multinomial Naive Bayes Model](#5.1)\n",
    "      - [Logistic Regression](#5.2)\n",
    "      - [SVM](#5.3)\n",
    "6. [Export Model](#6.0)      \n",
    "7. [Conclusion](#7.0)\n",
    "8. [Appendix](#8.0)\n"
   ]
  },
  {
   "cell_type": "markdown",
   "id": "a97318a3",
   "metadata": {},
   "source": [
    "<a id = '1.0'></a>\n",
    "<h2 style = \"font-size:35px; font-family:Garamond ; font-weight : normal; background-color: black; color : white; text-align: center; border-radius: 5px 5px; padding: 5px\"> 1. Overview </h2> "
   ]
  },
  {
   "cell_type": "markdown",
   "id": "ef580386",
   "metadata": {},
   "source": [
    "### Topic Clarity:\n",
    "\n",
    "In this project, the goal is to build a hotel review sentiment analysis where it will classify the user's review to positive or negative. \n",
    "\n",
    "### Dataset Selection:\n",
    "\n",
    "This dataset contains 20492 hotel reviews with the rating. This dataset is taken from 'Kaggle'. This dataset was choosen to train the model is because the dataset is large."
   ]
  },
  {
   "cell_type": "markdown",
   "id": "63be0102",
   "metadata": {},
   "source": [
    "<a id = '2.0'></a>\n",
    "<h2 style = \"font-size:35px; font-family:Garamond ; font-weight : normal; background-color: black; color : white; text-align: center; border-radius: 5px 5px; padding: 5px\"> 2. Study the data </h2> "
   ]
  },
  {
   "cell_type": "code",
   "execution_count": 1,
   "id": "a4e4f715",
   "metadata": {},
   "outputs": [
    {
     "data": {
      "text/html": [
       "<div>\n",
       "<style scoped>\n",
       "    .dataframe tbody tr th:only-of-type {\n",
       "        vertical-align: middle;\n",
       "    }\n",
       "\n",
       "    .dataframe tbody tr th {\n",
       "        vertical-align: top;\n",
       "    }\n",
       "\n",
       "    .dataframe thead th {\n",
       "        text-align: right;\n",
       "    }\n",
       "</style>\n",
       "<table border=\"1\" class=\"dataframe\">\n",
       "  <thead>\n",
       "    <tr style=\"text-align: right;\">\n",
       "      <th></th>\n",
       "      <th>Review</th>\n",
       "      <th>Rating</th>\n",
       "    </tr>\n",
       "  </thead>\n",
       "  <tbody>\n",
       "    <tr>\n",
       "      <th>0</th>\n",
       "      <td>nice hotel expensive parking got good deal sta...</td>\n",
       "      <td>4</td>\n",
       "    </tr>\n",
       "    <tr>\n",
       "      <th>1</th>\n",
       "      <td>ok nothing special charge diamond member hilto...</td>\n",
       "      <td>2</td>\n",
       "    </tr>\n",
       "    <tr>\n",
       "      <th>2</th>\n",
       "      <td>nice rooms not 4* experience hotel monaco seat...</td>\n",
       "      <td>3</td>\n",
       "    </tr>\n",
       "    <tr>\n",
       "      <th>3</th>\n",
       "      <td>unique, great stay, wonderful time hotel monac...</td>\n",
       "      <td>5</td>\n",
       "    </tr>\n",
       "    <tr>\n",
       "      <th>4</th>\n",
       "      <td>great stay great stay, went seahawk game aweso...</td>\n",
       "      <td>5</td>\n",
       "    </tr>\n",
       "  </tbody>\n",
       "</table>\n",
       "</div>"
      ],
      "text/plain": [
       "                                              Review  Rating\n",
       "0  nice hotel expensive parking got good deal sta...       4\n",
       "1  ok nothing special charge diamond member hilto...       2\n",
       "2  nice rooms not 4* experience hotel monaco seat...       3\n",
       "3  unique, great stay, wonderful time hotel monac...       5\n",
       "4  great stay great stay, went seahawk game aweso...       5"
      ]
     },
     "execution_count": 1,
     "metadata": {},
     "output_type": "execute_result"
    }
   ],
   "source": [
    "import pandas as pd \n",
    "import matplotlib.pyplot as plt\n",
    "import seaborn as sns\n",
    "import joblib\n",
    "\n",
    "df = pd.read_csv('/Users/wongyenchik/Desktop/NLP/tripadvisor_hotel_reviews.csv')\n",
    "df.head()"
   ]
  },
  {
   "cell_type": "code",
   "execution_count": 2,
   "id": "1334a726",
   "metadata": {},
   "outputs": [
    {
     "data": {
      "text/plain": [
       "(20491, 2)"
      ]
     },
     "execution_count": 2,
     "metadata": {},
     "output_type": "execute_result"
    }
   ],
   "source": [
    "df.shape\n"
   ]
  },
  {
   "cell_type": "markdown",
   "id": "e0391473",
   "metadata": {},
   "source": [
    "### There are 20491 row and 2 column"
   ]
  },
  {
   "cell_type": "code",
   "execution_count": 3,
   "id": "1ff2fdc1",
   "metadata": {},
   "outputs": [
    {
     "data": {
      "image/png": "[encoded data removed]",
      "text/plain": [
       "<Figure size 800x700 with 1 Axes>"
      ]
     },
     "metadata": {},
     "output_type": "display_data"
    }
   ],
   "source": [
    "plt.figure(figsize=(8, 7))\n",
    "ax = sns.countplot(data=df, x=\"Rating\", edgecolor='black', linewidth=3)\n",
    "\n",
    "# Annotate the bars with their counts\n",
    "for p in ax.patches:\n",
    "    height = p.get_height()\n",
    "    ax.annotate(f'{height}', (p.get_x() + p.get_width() / 2., height),\n",
    "                ha='center', va='bottom', fontsize=12, color='black')\n",
    "\n",
    "plt.title('Rating distribution', size=17)\n",
    "plt.show()\n"
   ]
  },
  {
   "cell_type": "markdown",
   "id": "a276c8b6",
   "metadata": {},
   "source": [
    "### We observe the data is left skewed\n",
    "\n"
   ]
  },
  {
   "cell_type": "code",
   "execution_count": 4,
   "id": "03bc7793",
   "metadata": {},
   "outputs": [
    {
     "data": {
      "text/plain": [
       "Review    object\n",
       "Rating     int64\n",
       "dtype: object"
      ]
     },
     "execution_count": 4,
     "metadata": {},
     "output_type": "execute_result"
    }
   ],
   "source": [
    "df.dtypes"
   ]
  },
  {
   "cell_type": "code",
   "execution_count": 5,
   "id": "b3f2c3d9",
   "metadata": {},
   "outputs": [
    {
     "data": {
      "text/plain": [
       "Review    0\n",
       "Rating    0\n",
       "dtype: int64"
      ]
     },
     "execution_count": 5,
     "metadata": {},
     "output_type": "execute_result"
    }
   ],
   "source": [
    "df.isna().sum()\n"
   ]
  },
  {
   "cell_type": "markdown",
   "id": "a84254f6",
   "metadata": {},
   "source": [
    "### There is no null value"
   ]
  },
  {
   "cell_type": "code",
   "execution_count": 6,
   "id": "5546ccb8",
   "metadata": {},
   "outputs": [],
   "source": [
    "#Label rating that got higher than 2 as positive review\n",
    "def rating(score):\n",
    "    if score > 2:\n",
    "        return 'Positive'\n",
    "    else:\n",
    "        return 'Negative'"
   ]
  },
  {
   "cell_type": "code",
   "execution_count": 7,
   "id": "f763be96",
   "metadata": {},
   "outputs": [
    {
     "data": {
      "text/html": [
       "<div>\n",
       "<style scoped>\n",
       "    .dataframe tbody tr th:only-of-type {\n",
       "        vertical-align: middle;\n",
       "    }\n",
       "\n",
       "    .dataframe tbody tr th {\n",
       "        vertical-align: top;\n",
       "    }\n",
       "\n",
       "    .dataframe thead th {\n",
       "        text-align: right;\n",
       "    }\n",
       "</style>\n",
       "<table border=\"1\" class=\"dataframe\">\n",
       "  <thead>\n",
       "    <tr style=\"text-align: right;\">\n",
       "      <th></th>\n",
       "      <th>Review</th>\n",
       "      <th>Rating</th>\n",
       "    </tr>\n",
       "  </thead>\n",
       "  <tbody>\n",
       "    <tr>\n",
       "      <th>0</th>\n",
       "      <td>nice hotel expensive parking got good deal sta...</td>\n",
       "      <td>Positive</td>\n",
       "    </tr>\n",
       "    <tr>\n",
       "      <th>1</th>\n",
       "      <td>ok nothing special charge diamond member hilto...</td>\n",
       "      <td>Negative</td>\n",
       "    </tr>\n",
       "    <tr>\n",
       "      <th>2</th>\n",
       "      <td>nice rooms not 4* experience hotel monaco seat...</td>\n",
       "      <td>Positive</td>\n",
       "    </tr>\n",
       "    <tr>\n",
       "      <th>3</th>\n",
       "      <td>unique, great stay, wonderful time hotel monac...</td>\n",
       "      <td>Positive</td>\n",
       "    </tr>\n",
       "    <tr>\n",
       "      <th>4</th>\n",
       "      <td>great stay great stay, went seahawk game aweso...</td>\n",
       "      <td>Positive</td>\n",
       "    </tr>\n",
       "  </tbody>\n",
       "</table>\n",
       "</div>"
      ],
      "text/plain": [
       "                                              Review    Rating\n",
       "0  nice hotel expensive parking got good deal sta...  Positive\n",
       "1  ok nothing special charge diamond member hilto...  Negative\n",
       "2  nice rooms not 4* experience hotel monaco seat...  Positive\n",
       "3  unique, great stay, wonderful time hotel monac...  Positive\n",
       "4  great stay great stay, went seahawk game aweso...  Positive"
      ]
     },
     "execution_count": 7,
     "metadata": {},
     "output_type": "execute_result"
    }
   ],
   "source": [
    "df['Rating'] = df['Rating'].apply(rating)\n",
    "df.head()"
   ]
  },
  {
   "cell_type": "code",
   "execution_count": 8,
   "id": "3c686364",
   "metadata": {},
   "outputs": [
    {
     "data": {
      "image/png": "[encoded data removed]",
      "text/plain": [
       "<Figure size 640x480 with 1 Axes>"
      ]
     },
     "metadata": {},
     "output_type": "display_data"
    }
   ],
   "source": [
    "# Create the countplot\n",
    "ax = sns.countplot(x=df['Rating'])\n",
    "\n",
    "# Annotate each bar with its count value\n",
    "for p in ax.patches:\n",
    "    ax.annotate(format(p.get_height(), '.0f'), \n",
    "                (p.get_x() + p.get_width() / 2., p.get_height()), \n",
    "                ha = 'center', va = 'center', \n",
    "                xytext = (0, 9), \n",
    "                textcoords = 'offset points')\n",
    "\n",
    "# Show the plot\n",
    "plt.show()\n"
   ]
  },
  {
   "cell_type": "markdown",
   "id": "cab5070b",
   "metadata": {},
   "source": [
    "### Majority of the dataset is positive"
   ]
  },
  {
   "cell_type": "markdown",
   "id": "b18bdf84",
   "metadata": {},
   "source": [
    "<a id = '3.0'></a>\n",
    "<h2 style = \"font-size:35px; font-family:Garamond ; font-weight : normal; background-color: black; color : white; text-align: center; border-radius: 5px 5px; padding: 5px\"> 3. Data Cleaning </h2> "
   ]
  },
  {
   "cell_type": "code",
   "execution_count": 9,
   "id": "fa0db553",
   "metadata": {},
   "outputs": [
    {
     "name": "stderr",
     "output_type": "stream",
     "text": [
      "[nltk_data] Downloading package punkt to\n",
      "[nltk_data]     /Users/wongyenchik/nltk_data...\n",
      "[nltk_data]   Package punkt is already up-to-date!\n",
      "[nltk_data] Downloading package stopwords to\n",
      "[nltk_data]     /Users/wongyenchik/nltk_data...\n",
      "[nltk_data]   Package stopwords is already up-to-date!\n",
      "[nltk_data] Downloading package wordnet to\n",
      "[nltk_data]     /Users/wongyenchik/nltk_data...\n",
      "[nltk_data]   Package wordnet is already up-to-date!\n"
     ]
    },
    {
     "data": {
      "text/plain": [
       "True"
      ]
     },
     "execution_count": 9,
     "metadata": {},
     "output_type": "execute_result"
    }
   ],
   "source": [
    "import nltk\n",
    "from nltk.tokenize import word_tokenize\n",
    "from nltk.corpus import stopwords\n",
    "from string import punctuation\n",
    "from nltk.stem import WordNetLemmatizer\n",
    "\n",
    "nltk.download('punkt')\n",
    "nltk.download('stopwords')\n",
    "nltk.download('wordnet')"
   ]
  },
  {
   "cell_type": "code",
   "execution_count": 10,
   "id": "cb8c63d5",
   "metadata": {},
   "outputs": [],
   "source": [
    "def clean_text(text):\n",
    "    #Stopword such as 'and', 'the' are store in stop variable\n",
    "    stop = set(stopwords.words('english'))\n",
    "    #Punctuation such as . , are store in punc variable\n",
    "    punc = set(punctuation)\n",
    "    #Create an instance for the WordNetLemmatizer class from the NLTK library\n",
    "    lemma = WordNetLemmatizer()\n",
    "    #Tokenination to splitting text into individual words or tokens.\n",
    "    tokens = word_tokenize(text)\n",
    "    #Filter out non-alphabetic characters\n",
    "    word_tokens = [t for t in tokens if t.isalpha()]\n",
    "    #Lowercase and lemmatize words that are not in the union of two set :stop and punc \n",
    "    clean_tokens = [lemma.lemmatize(t.lower()) for t in word_tokens if t not in stop.union(punc)]\n",
    "    # Join the cleaned tokens into a single string\n",
    "    cleaned_text = ' '.join(clean_tokens)\n",
    "    return cleaned_text\n"
   ]
  },
  {
   "cell_type": "code",
   "execution_count": 11,
   "id": "872ed61a",
   "metadata": {},
   "outputs": [],
   "source": [
    "df['Review'] = df['Review'].apply(clean_text)"
   ]
  },
  {
   "cell_type": "code",
   "execution_count": 12,
   "id": "377d2cf2",
   "metadata": {},
   "outputs": [
    {
     "data": {
      "text/html": [
       "<div>\n",
       "<style scoped>\n",
       "    .dataframe tbody tr th:only-of-type {\n",
       "        vertical-align: middle;\n",
       "    }\n",
       "\n",
       "    .dataframe tbody tr th {\n",
       "        vertical-align: top;\n",
       "    }\n",
       "\n",
       "    .dataframe thead th {\n",
       "        text-align: right;\n",
       "    }\n",
       "</style>\n",
       "<table border=\"1\" class=\"dataframe\">\n",
       "  <thead>\n",
       "    <tr style=\"text-align: right;\">\n",
       "      <th></th>\n",
       "      <th>Review</th>\n",
       "      <th>Rating</th>\n",
       "    </tr>\n",
       "  </thead>\n",
       "  <tbody>\n",
       "    <tr>\n",
       "      <th>0</th>\n",
       "      <td>nice hotel expensive parking got good deal sta...</td>\n",
       "      <td>Positive</td>\n",
       "    </tr>\n",
       "    <tr>\n",
       "      <th>1</th>\n",
       "      <td>ok nothing special charge diamond member hilto...</td>\n",
       "      <td>Negative</td>\n",
       "    </tr>\n",
       "    <tr>\n",
       "      <th>2</th>\n",
       "      <td>nice room experience hotel monaco seattle good...</td>\n",
       "      <td>Positive</td>\n",
       "    </tr>\n",
       "    <tr>\n",
       "      <th>3</th>\n",
       "      <td>unique great stay wonderful time hotel monaco ...</td>\n",
       "      <td>Positive</td>\n",
       "    </tr>\n",
       "    <tr>\n",
       "      <th>4</th>\n",
       "      <td>great stay great stay went seahawk game awesom...</td>\n",
       "      <td>Positive</td>\n",
       "    </tr>\n",
       "    <tr>\n",
       "      <th>5</th>\n",
       "      <td>love monaco staff husband stayed hotel crazy w...</td>\n",
       "      <td>Positive</td>\n",
       "    </tr>\n",
       "    <tr>\n",
       "      <th>6</th>\n",
       "      <td>cozy stay rainy city husband spent night monac...</td>\n",
       "      <td>Positive</td>\n",
       "    </tr>\n",
       "    <tr>\n",
       "      <th>7</th>\n",
       "      <td>excellent staff housekeeping quality hotel cho...</td>\n",
       "      <td>Positive</td>\n",
       "    </tr>\n",
       "    <tr>\n",
       "      <th>8</th>\n",
       "      <td>hotel stayed hotel monaco cruise room generous...</td>\n",
       "      <td>Positive</td>\n",
       "    </tr>\n",
       "    <tr>\n",
       "      <th>9</th>\n",
       "      <td>excellent stayed hotel monaco past delight rec...</td>\n",
       "      <td>Positive</td>\n",
       "    </tr>\n",
       "  </tbody>\n",
       "</table>\n",
       "</div>"
      ],
      "text/plain": [
       "                                              Review    Rating\n",
       "0  nice hotel expensive parking got good deal sta...  Positive\n",
       "1  ok nothing special charge diamond member hilto...  Negative\n",
       "2  nice room experience hotel monaco seattle good...  Positive\n",
       "3  unique great stay wonderful time hotel monaco ...  Positive\n",
       "4  great stay great stay went seahawk game awesom...  Positive\n",
       "5  love monaco staff husband stayed hotel crazy w...  Positive\n",
       "6  cozy stay rainy city husband spent night monac...  Positive\n",
       "7  excellent staff housekeeping quality hotel cho...  Positive\n",
       "8  hotel stayed hotel monaco cruise room generous...  Positive\n",
       "9  excellent stayed hotel monaco past delight rec...  Positive"
      ]
     },
     "execution_count": 12,
     "metadata": {},
     "output_type": "execute_result"
    }
   ],
   "source": [
    "df.head(10)"
   ]
  },
  {
   "cell_type": "markdown",
   "id": "c158107c",
   "metadata": {},
   "source": [
    "<a id = '4.0'></a>\n",
    "<h2 style = \"font-size:35px; font-family:Garamond ; font-weight : normal; background-color: black; color : white; text-align: center; border-radius: 5px 5px; padding: 5px\"> 4. Feature Extraction </h2> "
   ]
  },
  {
   "cell_type": "code",
   "execution_count": 13,
   "id": "a71ab2e8",
   "metadata": {},
   "outputs": [],
   "source": [
    "x = df['Review']\n",
    "y = df['Rating']"
   ]
  },
  {
   "cell_type": "code",
   "execution_count": 14,
   "id": "17019120",
   "metadata": {},
   "outputs": [
    {
     "name": "stdout",
     "output_type": "stream",
     "text": [
      "X_train:  16392\n",
      "X_test:  4099\n",
      "y_train:  16392\n",
      "y_test:  4099\n"
     ]
    }
   ],
   "source": [
    "# Split Text train set to 80-20\n",
    "from sklearn.model_selection import train_test_split\n",
    "X_train, X_test, y_train, y_test = train_test_split(x, y, test_size=0.2, random_state=35)\n",
    "print('X_train: ', len(X_train))\n",
    "print('X_test: ', len(X_test))\n",
    "print('y_train: ', len(y_train))\n",
    "print('y_test: ', len(y_test))"
   ]
  },
  {
   "cell_type": "code",
   "execution_count": 15,
   "id": "e9a669be",
   "metadata": {},
   "outputs": [],
   "source": [
    "#TF-IDF vector encodes the importance of words\n",
    "from sklearn.feature_extraction.text import TfidfVectorizer\n",
    "from sklearn.pipeline import Pipeline\n",
    "vectorizer = TfidfVectorizer()"
   ]
  },
  {
   "cell_type": "code",
   "execution_count": 16,
   "id": "3e05707d",
   "metadata": {},
   "outputs": [],
   "source": [
    "#LabelEncoder is used to convert categorical class labels into numerical labels\n",
    "from sklearn.preprocessing import LabelEncoder\n",
    "le = LabelEncoder()\n",
    "y = le.fit_transform(y)\n"
   ]
  },
  {
   "cell_type": "markdown",
   "id": "c426e20e",
   "metadata": {},
   "source": [
    "<a id = '5.0'></a>\n",
    "<h2 style = \"font-size:35px; font-family:Garamond ; font-weight : normal; background-color: black; color : white; text-align: center; border-radius: 5px 5px; padding: 5px\"> 5. Model Building </h2> "
   ]
  },
  {
   "cell_type": "markdown",
   "id": "0f78ce8b",
   "metadata": {},
   "source": [
    "<a id = '5.1'></a>\n",
    "## Multinomial Naive Bayes Model\n",
    "\n"
   ]
  },
  {
   "cell_type": "code",
   "execution_count": 17,
   "id": "6ac502ed",
   "metadata": {},
   "outputs": [
    {
     "data": {
      "text/html": [
       "<style>#sk-container-id-1 {color: black;}#sk-container-id-1 pre{padding: 0;}#sk-container-id-1 div.sk-toggleable {background-color: white;}#sk-container-id-1 label.sk-toggleable__label {cursor: pointer;display: block;width: 100%;margin-bottom: 0;padding: 0.3em;box-sizing: border-box;text-align: center;}#sk-container-id-1 label.sk-toggleable__label-arrow:before {content: \"▸\";float: left;margin-right: 0.25em;color: #696969;}#sk-container-id-1 label.sk-toggleable__label-arrow:hover:before {color: black;}#sk-container-id-1 div.sk-estimator:hover label.sk-toggleable__label-arrow:before {color: black;}#sk-container-id-1 div.sk-toggleable__content {max-height: 0;max-width: 0;overflow: hidden;text-align: left;background-color: #f0f8ff;}#sk-container-id-1 div.sk-toggleable__content pre {margin: 0.2em;color: black;border-radius: 0.25em;background-color: #f0f8ff;}#sk-container-id-1 input.sk-toggleable__control:checked~div.sk-toggleable__content {max-height: 200px;max-width: 100%;overflow: auto;}#sk-container-id-1 input.sk-toggleable__control:checked~label.sk-toggleable__label-arrow:before {content: \"▾\";}#sk-container-id-1 div.sk-estimator input.sk-toggleable__control:checked~label.sk-toggleable__label {background-color: #d4ebff;}#sk-container-id-1 div.sk-label input.sk-toggleable__control:checked~label.sk-toggleable__label {background-color: #d4ebff;}#sk-container-id-1 input.sk-hidden--visually {border: 0;clip: rect(1px 1px 1px 1px);clip: rect(1px, 1px, 1px, 1px);height: 1px;margin: -1px;overflow: hidden;padding: 0;position: absolute;width: 1px;}#sk-container-id-1 div.sk-estimator {font-family: monospace;background-color: #f0f8ff;border: 1px dotted black;border-radius: 0.25em;box-sizing: border-box;margin-bottom: 0.5em;}#sk-container-id-1 div.sk-estimator:hover {background-color: #d4ebff;}#sk-container-id-1 div.sk-parallel-item::after {content: \"\";width: 100%;border-bottom: 1px solid gray;flex-grow: 1;}#sk-container-id-1 div.sk-label:hover label.sk-toggleable__label {background-color: #d4ebff;}#sk-container-id-1 div.sk-serial::before {content: \"\";position: absolute;border-left: 1px solid gray;box-sizing: border-box;top: 0;bottom: 0;left: 50%;z-index: 0;}#sk-container-id-1 div.sk-serial {display: flex;flex-direction: column;align-items: center;background-color: white;padding-right: 0.2em;padding-left: 0.2em;position: relative;}#sk-container-id-1 div.sk-item {position: relative;z-index: 1;}#sk-container-id-1 div.sk-parallel {display: flex;align-items: stretch;justify-content: center;background-color: white;position: relative;}#sk-container-id-1 div.sk-item::before, #sk-container-id-1 div.sk-parallel-item::before {content: \"\";position: absolute;border-left: 1px solid gray;box-sizing: border-box;top: 0;bottom: 0;left: 50%;z-index: -1;}#sk-container-id-1 div.sk-parallel-item {display: flex;flex-direction: column;z-index: 1;position: relative;background-color: white;}#sk-container-id-1 div.sk-parallel-item:first-child::after {align-self: flex-end;width: 50%;}#sk-container-id-1 div.sk-parallel-item:last-child::after {align-self: flex-start;width: 50%;}#sk-container-id-1 div.sk-parallel-item:only-child::after {width: 0;}#sk-container-id-1 div.sk-dashed-wrapped {border: 1px dashed gray;margin: 0 0.4em 0.5em 0.4em;box-sizing: border-box;padding-bottom: 0.4em;background-color: white;}#sk-container-id-1 div.sk-label label {font-family: monospace;font-weight: bold;display: inline-block;line-height: 1.2em;}#sk-container-id-1 div.sk-label-container {text-align: center;}#sk-container-id-1 div.sk-container {/* jupyter's `normalize.less` sets `[hidden] { display: none; }` but bootstrap.min.css set `[hidden] { display: none !important; }` so we also need the `!important` here to be able to override the default hidden behavior on the sphinx rendered scikit-learn.org. See: https://github.com/scikit-learn/scikit-learn/issues/21755 */display: inline-block !important;position: relative;}#sk-container-id-1 div.sk-text-repr-fallback {display: none;}</style><div id=\"sk-container-id-1\" class=\"sk-top-container\"><div class=\"sk-text-repr-fallback\"><pre>Pipeline(steps=[(&#x27;vectorizer&#x27;, TfidfVectorizer()),\n",
       "                (&#x27;classifier&#x27;, MultinomialNB())])</pre><b>In a Jupyter environment, please rerun this cell to show the HTML representation or trust the notebook. <br />On GitHub, the HTML representation is unable to render, please try loading this page with nbviewer.org.</b></div><div class=\"sk-container\" hidden><div class=\"sk-item sk-dashed-wrapped\"><div class=\"sk-label-container\"><div class=\"sk-label sk-toggleable\"><input class=\"sk-toggleable__control sk-hidden--visually\" id=\"sk-estimator-id-1\" type=\"checkbox\" ><label for=\"sk-estimator-id-1\" class=\"sk-toggleable__label sk-toggleable__label-arrow\">Pipeline</label><div class=\"sk-toggleable__content\"><pre>Pipeline(steps=[(&#x27;vectorizer&#x27;, TfidfVectorizer()),\n",
       "                (&#x27;classifier&#x27;, MultinomialNB())])</pre></div></div></div><div class=\"sk-serial\"><div class=\"sk-item\"><div class=\"sk-estimator sk-toggleable\"><input class=\"sk-toggleable__control sk-hidden--visually\" id=\"sk-estimator-id-2\" type=\"checkbox\" ><label for=\"sk-estimator-id-2\" class=\"sk-toggleable__label sk-toggleable__label-arrow\">TfidfVectorizer</label><div class=\"sk-toggleable__content\"><pre>TfidfVectorizer()</pre></div></div></div><div class=\"sk-item\"><div class=\"sk-estimator sk-toggleable\"><input class=\"sk-toggleable__control sk-hidden--visually\" id=\"sk-estimator-id-3\" type=\"checkbox\" ><label for=\"sk-estimator-id-3\" class=\"sk-toggleable__label sk-toggleable__label-arrow\">MultinomialNB</label><div class=\"sk-toggleable__content\"><pre>MultinomialNB()</pre></div></div></div></div></div></div></div>"
      ],
      "text/plain": [
       "Pipeline(steps=[('vectorizer', TfidfVectorizer()),\n",
       "                ('classifier', MultinomialNB())])"
      ]
     },
     "execution_count": 17,
     "metadata": {},
     "output_type": "execute_result"
    }
   ],
   "source": [
    "from sklearn.naive_bayes import MultinomialNB\n",
    "from sklearn.metrics import accuracy_score\n",
    "# Create a Naive Bayes classifier (Multinomial Naive Bayes is suitable for text classification)\n",
    "naive_bayes_classifier = MultinomialNB()\n",
    "\n",
    "model = Pipeline([('vectorizer', vectorizer),('classifier', naive_bayes_classifier)])\n",
    "# Train the classifier using the training data\n",
    "model.fit(X_train, y_train)"
   ]
  },
  {
   "cell_type": "code",
   "execution_count": 18,
   "id": "51315617",
   "metadata": {},
   "outputs": [
    {
     "data": {
      "text/plain": [
       "array([[   1,    0],\n",
       "       [ 627, 3471]])"
      ]
     },
     "execution_count": 18,
     "metadata": {},
     "output_type": "execute_result"
    }
   ],
   "source": [
    "from sklearn.metrics import confusion_matrix\n",
    "predictions = model.predict(X_test)\n",
    "confusion_matrix(predictions, y_test)"
   ]
  },
  {
   "cell_type": "code",
   "execution_count": 19,
   "id": "f969cac2",
   "metadata": {},
   "outputs": [
    {
     "name": "stdout",
     "output_type": "stream",
     "text": [
      "Accuracy:  0.8470358624054648\n",
      "Precision:  0.9997564265324927\n",
      "Recall:  0.8470358624054648\n"
     ]
    }
   ],
   "source": [
    "from sklearn.metrics import accuracy_score, precision_score, recall_score\n",
    "\n",
    "print(\"Accuracy: \", accuracy_score(predictions, y_test))\n",
    "print(\"Precision: \", precision_score(predictions, y_test, average = 'weighted'))\n",
    "print(\"Recall: \", recall_score(predictions, y_test, average = 'weighted'))\n"
   ]
  },
  {
   "cell_type": "code",
   "execution_count": 20,
   "id": "c09e4da2",
   "metadata": {},
   "outputs": [
    {
     "name": "stdout",
     "output_type": "stream",
     "text": [
      "Train Score:  0.8452293801854563\n",
      "Test Score:  0.8470358624054648\n"
     ]
    }
   ],
   "source": [
    "print(\"Train Score: \", model.score(X_train, y_train))\n",
    "print(\"Test Score: \", model.score(X_test, y_test))"
   ]
  },
  {
   "cell_type": "markdown",
   "id": "48e316b0",
   "metadata": {},
   "source": [
    "## Multinomial Naive Bayes Model Testing"
   ]
  },
  {
   "cell_type": "code",
   "execution_count": 21,
   "id": "0342abee",
   "metadata": {},
   "outputs": [
    {
     "name": "stdout",
     "output_type": "stream",
     "text": [
      "['Positive']\n"
     ]
    }
   ],
   "source": [
    "example = [\"I don't like this hotel\"]\n",
    "\n",
    "def clean_text(text):\n",
    "    # Stopwords such as 'and', 'the' are stored in the stop variable\n",
    "    stop = set(stopwords.words('english'))\n",
    "    # Punctuation such as . , are stored in the punc variable\n",
    "    punc = set(punctuation)\n",
    "    # Create an instance for the WordNetLemmatizer class from the NLTK library\n",
    "    lemma = WordNetLemmatizer()\n",
    "    # Tokenization to split text into individual words or tokens.\n",
    "    tokens = word_tokenize(text)\n",
    "    # Filter out non-alphabetic characters\n",
    "    word_tokens = [t for t in tokens if t.isalpha()]\n",
    "    # Lowercase and lemmatize words that are not in the union of two sets: stop and punc \n",
    "    clean_tokens = [lemma.lemmatize(t.lower()) for t in word_tokens if t not in stop.union(punc)]\n",
    "    # Join the cleaned tokens into a single string\n",
    "    cleaned_text = ' '.join(clean_tokens)\n",
    "    return cleaned_text  # You need to return the cleaned text\n",
    "\n",
    "# Use list comprehension to clean each example in the list\n",
    "cleaned_examples = [clean_text(text) for text in example]\n",
    "\n",
    "# Now you can use the cleaned examples for prediction\n",
    "result = model.predict(cleaned_examples)\n",
    "print(result)\n"
   ]
  },
  {
   "cell_type": "markdown",
   "id": "57cfb26a",
   "metadata": {},
   "source": [
    "<a id = '5.2'></a>\n",
    "## Logistic Regression"
   ]
  },
  {
   "cell_type": "code",
   "execution_count": 22,
   "id": "feeee5ad",
   "metadata": {},
   "outputs": [
    {
     "data": {
      "text/html": [
       "<style>#sk-container-id-2 {color: black;}#sk-container-id-2 pre{padding: 0;}#sk-container-id-2 div.sk-toggleable {background-color: white;}#sk-container-id-2 label.sk-toggleable__label {cursor: pointer;display: block;width: 100%;margin-bottom: 0;padding: 0.3em;box-sizing: border-box;text-align: center;}#sk-container-id-2 label.sk-toggleable__label-arrow:before {content: \"▸\";float: left;margin-right: 0.25em;color: #696969;}#sk-container-id-2 label.sk-toggleable__label-arrow:hover:before {color: black;}#sk-container-id-2 div.sk-estimator:hover label.sk-toggleable__label-arrow:before {color: black;}#sk-container-id-2 div.sk-toggleable__content {max-height: 0;max-width: 0;overflow: hidden;text-align: left;background-color: #f0f8ff;}#sk-container-id-2 div.sk-toggleable__content pre {margin: 0.2em;color: black;border-radius: 0.25em;background-color: #f0f8ff;}#sk-container-id-2 input.sk-toggleable__control:checked~div.sk-toggleable__content {max-height: 200px;max-width: 100%;overflow: auto;}#sk-container-id-2 input.sk-toggleable__control:checked~label.sk-toggleable__label-arrow:before {content: \"▾\";}#sk-container-id-2 div.sk-estimator input.sk-toggleable__control:checked~label.sk-toggleable__label {background-color: #d4ebff;}#sk-container-id-2 div.sk-label input.sk-toggleable__control:checked~label.sk-toggleable__label {background-color: #d4ebff;}#sk-container-id-2 input.sk-hidden--visually {border: 0;clip: rect(1px 1px 1px 1px);clip: rect(1px, 1px, 1px, 1px);height: 1px;margin: -1px;overflow: hidden;padding: 0;position: absolute;width: 1px;}#sk-container-id-2 div.sk-estimator {font-family: monospace;background-color: #f0f8ff;border: 1px dotted black;border-radius: 0.25em;box-sizing: border-box;margin-bottom: 0.5em;}#sk-container-id-2 div.sk-estimator:hover {background-color: #d4ebff;}#sk-container-id-2 div.sk-parallel-item::after {content: \"\";width: 100%;border-bottom: 1px solid gray;flex-grow: 1;}#sk-container-id-2 div.sk-label:hover label.sk-toggleable__label {background-color: #d4ebff;}#sk-container-id-2 div.sk-serial::before {content: \"\";position: absolute;border-left: 1px solid gray;box-sizing: border-box;top: 0;bottom: 0;left: 50%;z-index: 0;}#sk-container-id-2 div.sk-serial {display: flex;flex-direction: column;align-items: center;background-color: white;padding-right: 0.2em;padding-left: 0.2em;position: relative;}#sk-container-id-2 div.sk-item {position: relative;z-index: 1;}#sk-container-id-2 div.sk-parallel {display: flex;align-items: stretch;justify-content: center;background-color: white;position: relative;}#sk-container-id-2 div.sk-item::before, #sk-container-id-2 div.sk-parallel-item::before {content: \"\";position: absolute;border-left: 1px solid gray;box-sizing: border-box;top: 0;bottom: 0;left: 50%;z-index: -1;}#sk-container-id-2 div.sk-parallel-item {display: flex;flex-direction: column;z-index: 1;position: relative;background-color: white;}#sk-container-id-2 div.sk-parallel-item:first-child::after {align-self: flex-end;width: 50%;}#sk-container-id-2 div.sk-parallel-item:last-child::after {align-self: flex-start;width: 50%;}#sk-container-id-2 div.sk-parallel-item:only-child::after {width: 0;}#sk-container-id-2 div.sk-dashed-wrapped {border: 1px dashed gray;margin: 0 0.4em 0.5em 0.4em;box-sizing: border-box;padding-bottom: 0.4em;background-color: white;}#sk-container-id-2 div.sk-label label {font-family: monospace;font-weight: bold;display: inline-block;line-height: 1.2em;}#sk-container-id-2 div.sk-label-container {text-align: center;}#sk-container-id-2 div.sk-container {/* jupyter's `normalize.less` sets `[hidden] { display: none; }` but bootstrap.min.css set `[hidden] { display: none !important; }` so we also need the `!important` here to be able to override the default hidden behavior on the sphinx rendered scikit-learn.org. See: https://github.com/scikit-learn/scikit-learn/issues/21755 */display: inline-block !important;position: relative;}#sk-container-id-2 div.sk-text-repr-fallback {display: none;}</style><div id=\"sk-container-id-2\" class=\"sk-top-container\"><div class=\"sk-text-repr-fallback\"><pre>Pipeline(steps=[(&#x27;vectorizer&#x27;, TfidfVectorizer()),\n",
       "                (&#x27;classifier&#x27;, LogisticRegression())])</pre><b>In a Jupyter environment, please rerun this cell to show the HTML representation or trust the notebook. <br />On GitHub, the HTML representation is unable to render, please try loading this page with nbviewer.org.</b></div><div class=\"sk-container\" hidden><div class=\"sk-item sk-dashed-wrapped\"><div class=\"sk-label-container\"><div class=\"sk-label sk-toggleable\"><input class=\"sk-toggleable__control sk-hidden--visually\" id=\"sk-estimator-id-4\" type=\"checkbox\" ><label for=\"sk-estimator-id-4\" class=\"sk-toggleable__label sk-toggleable__label-arrow\">Pipeline</label><div class=\"sk-toggleable__content\"><pre>Pipeline(steps=[(&#x27;vectorizer&#x27;, TfidfVectorizer()),\n",
       "                (&#x27;classifier&#x27;, LogisticRegression())])</pre></div></div></div><div class=\"sk-serial\"><div class=\"sk-item\"><div class=\"sk-estimator sk-toggleable\"><input class=\"sk-toggleable__control sk-hidden--visually\" id=\"sk-estimator-id-5\" type=\"checkbox\" ><label for=\"sk-estimator-id-5\" class=\"sk-toggleable__label sk-toggleable__label-arrow\">TfidfVectorizer</label><div class=\"sk-toggleable__content\"><pre>TfidfVectorizer()</pre></div></div></div><div class=\"sk-item\"><div class=\"sk-estimator sk-toggleable\"><input class=\"sk-toggleable__control sk-hidden--visually\" id=\"sk-estimator-id-6\" type=\"checkbox\" ><label for=\"sk-estimator-id-6\" class=\"sk-toggleable__label sk-toggleable__label-arrow\">LogisticRegression</label><div class=\"sk-toggleable__content\"><pre>LogisticRegression()</pre></div></div></div></div></div></div></div>"
      ],
      "text/plain": [
       "Pipeline(steps=[('vectorizer', TfidfVectorizer()),\n",
       "                ('classifier', LogisticRegression())])"
      ]
     },
     "execution_count": 22,
     "metadata": {},
     "output_type": "execute_result"
    }
   ],
   "source": [
    "from sklearn.linear_model import LogisticRegression\n",
    "logis = LogisticRegression()\n",
    "\n",
    "modelLogis = Pipeline([('vectorizer', vectorizer),('classifier', logis)])\n",
    "# Train the classifier using the training data\n",
    "modelLogis.fit(X_train, y_train)"
   ]
  },
  {
   "cell_type": "code",
   "execution_count": 23,
   "id": "f179bc36",
   "metadata": {},
   "outputs": [
    {
     "name": "stdout",
     "output_type": "stream",
     "text": [
      "Accuracy:  0.8470358624054648\n",
      "Precision:  0.9997564265324927\n",
      "Recall:  0.8470358624054648\n"
     ]
    }
   ],
   "source": [
    "from sklearn.metrics import accuracy_score, precision_score, recall_score\n",
    "\n",
    "print(\"Accuracy: \", accuracy_score(predictions, y_test))\n",
    "print(\"Precision: \", precision_score(predictions, y_test, average = 'weighted'))\n",
    "print(\"Recall: \", recall_score(predictions, y_test, average = 'weighted'))\n"
   ]
  },
  {
   "cell_type": "code",
   "execution_count": 24,
   "id": "066313b7",
   "metadata": {},
   "outputs": [
    {
     "name": "stdout",
     "output_type": "stream",
     "text": [
      "Train Score:  0.9474743777452416\n",
      "Test Score:  0.9336423517931203\n"
     ]
    }
   ],
   "source": [
    "print(\"Train Score: \", modelLogis.score(X_train, y_train))\n",
    "print(\"Test Score: \", modelLogis.score(X_test, y_test))"
   ]
  },
  {
   "cell_type": "markdown",
   "id": "9db9495b",
   "metadata": {},
   "source": [
    "## Logistic Model Testing"
   ]
  },
  {
   "cell_type": "code",
   "execution_count": 25,
   "id": "2ca58d2e",
   "metadata": {},
   "outputs": [
    {
     "name": "stdout",
     "output_type": "stream",
     "text": [
      "['Positive']\n"
     ]
    }
   ],
   "source": [
    "example = [\"They always treat you with care and love.\"]\n",
    "\n",
    "def clean_text(text):\n",
    "    # Stopwords such as 'and', 'the' are stored in the stop variable\n",
    "    stop = set(stopwords.words('english'))\n",
    "    # Punctuation such as . , are stored in the punc variable\n",
    "    punc = set(punctuation)\n",
    "    # Create an instance for the WordNetLemmatizer class from the NLTK library\n",
    "    lemma = WordNetLemmatizer()\n",
    "    # Tokenization to split text into individual words or tokens.\n",
    "    tokens = word_tokenize(text)\n",
    "    # Filter out non-alphabetic characters\n",
    "    word_tokens = [t for t in tokens if t.isalpha()]\n",
    "    # Lowercase and lemmatize words that are not in the union of two sets: stop and punc \n",
    "    clean_tokens = [lemma.lemmatize(t.lower()) for t in word_tokens if t not in stop.union(punc)]\n",
    "    # Join the cleaned tokens into a single string\n",
    "    cleaned_text = ' '.join(clean_tokens)\n",
    "    return cleaned_text  # You need to return the cleaned text\n",
    "\n",
    "# Use list comprehension to clean each example in the list\n",
    "cleaned_examples = [clean_text(text) for text in example]\n",
    "\n",
    "# Now you can use the cleaned examples for prediction\n",
    "result = modelLogis.predict(cleaned_examples)\n",
    "print(result)\n"
   ]
  },
  {
   "cell_type": "markdown",
   "id": "0e5712df",
   "metadata": {},
   "source": [
    "<a id = '5.3'></a>\n",
    "## SVM"
   ]
  },
  {
   "cell_type": "code",
   "execution_count": 26,
   "id": "e182d2d9",
   "metadata": {},
   "outputs": [
    {
     "data": {
      "text/html": [
       "<style>#sk-container-id-3 {color: black;}#sk-container-id-3 pre{padding: 0;}#sk-container-id-3 div.sk-toggleable {background-color: white;}#sk-container-id-3 label.sk-toggleable__label {cursor: pointer;display: block;width: 100%;margin-bottom: 0;padding: 0.3em;box-sizing: border-box;text-align: center;}#sk-container-id-3 label.sk-toggleable__label-arrow:before {content: \"▸\";float: left;margin-right: 0.25em;color: #696969;}#sk-container-id-3 label.sk-toggleable__label-arrow:hover:before {color: black;}#sk-container-id-3 div.sk-estimator:hover label.sk-toggleable__label-arrow:before {color: black;}#sk-container-id-3 div.sk-toggleable__content {max-height: 0;max-width: 0;overflow: hidden;text-align: left;background-color: #f0f8ff;}#sk-container-id-3 div.sk-toggleable__content pre {margin: 0.2em;color: black;border-radius: 0.25em;background-color: #f0f8ff;}#sk-container-id-3 input.sk-toggleable__control:checked~div.sk-toggleable__content {max-height: 200px;max-width: 100%;overflow: auto;}#sk-container-id-3 input.sk-toggleable__control:checked~label.sk-toggleable__label-arrow:before {content: \"▾\";}#sk-container-id-3 div.sk-estimator input.sk-toggleable__control:checked~label.sk-toggleable__label {background-color: #d4ebff;}#sk-container-id-3 div.sk-label input.sk-toggleable__control:checked~label.sk-toggleable__label {background-color: #d4ebff;}#sk-container-id-3 input.sk-hidden--visually {border: 0;clip: rect(1px 1px 1px 1px);clip: rect(1px, 1px, 1px, 1px);height: 1px;margin: -1px;overflow: hidden;padding: 0;position: absolute;width: 1px;}#sk-container-id-3 div.sk-estimator {font-family: monospace;background-color: #f0f8ff;border: 1px dotted black;border-radius: 0.25em;box-sizing: border-box;margin-bottom: 0.5em;}#sk-container-id-3 div.sk-estimator:hover {background-color: #d4ebff;}#sk-container-id-3 div.sk-parallel-item::after {content: \"\";width: 100%;border-bottom: 1px solid gray;flex-grow: 1;}#sk-container-id-3 div.sk-label:hover label.sk-toggleable__label {background-color: #d4ebff;}#sk-container-id-3 div.sk-serial::before {content: \"\";position: absolute;border-left: 1px solid gray;box-sizing: border-box;top: 0;bottom: 0;left: 50%;z-index: 0;}#sk-container-id-3 div.sk-serial {display: flex;flex-direction: column;align-items: center;background-color: white;padding-right: 0.2em;padding-left: 0.2em;position: relative;}#sk-container-id-3 div.sk-item {position: relative;z-index: 1;}#sk-container-id-3 div.sk-parallel {display: flex;align-items: stretch;justify-content: center;background-color: white;position: relative;}#sk-container-id-3 div.sk-item::before, #sk-container-id-3 div.sk-parallel-item::before {content: \"\";position: absolute;border-left: 1px solid gray;box-sizing: border-box;top: 0;bottom: 0;left: 50%;z-index: -1;}#sk-container-id-3 div.sk-parallel-item {display: flex;flex-direction: column;z-index: 1;position: relative;background-color: white;}#sk-container-id-3 div.sk-parallel-item:first-child::after {align-self: flex-end;width: 50%;}#sk-container-id-3 div.sk-parallel-item:last-child::after {align-self: flex-start;width: 50%;}#sk-container-id-3 div.sk-parallel-item:only-child::after {width: 0;}#sk-container-id-3 div.sk-dashed-wrapped {border: 1px dashed gray;margin: 0 0.4em 0.5em 0.4em;box-sizing: border-box;padding-bottom: 0.4em;background-color: white;}#sk-container-id-3 div.sk-label label {font-family: monospace;font-weight: bold;display: inline-block;line-height: 1.2em;}#sk-container-id-3 div.sk-label-container {text-align: center;}#sk-container-id-3 div.sk-container {/* jupyter's `normalize.less` sets `[hidden] { display: none; }` but bootstrap.min.css set `[hidden] { display: none !important; }` so we also need the `!important` here to be able to override the default hidden behavior on the sphinx rendered scikit-learn.org. See: https://github.com/scikit-learn/scikit-learn/issues/21755 */display: inline-block !important;position: relative;}#sk-container-id-3 div.sk-text-repr-fallback {display: none;}</style><div id=\"sk-container-id-3\" class=\"sk-top-container\"><div class=\"sk-text-repr-fallback\"><pre>Pipeline(steps=[(&#x27;vectorizer&#x27;, TfidfVectorizer()),\n",
       "                (&#x27;classifier&#x27;,\n",
       "                 SVC(kernel=&#x27;linear&#x27;, probability=True, random_state=42))])</pre><b>In a Jupyter environment, please rerun this cell to show the HTML representation or trust the notebook. <br />On GitHub, the HTML representation is unable to render, please try loading this page with nbviewer.org.</b></div><div class=\"sk-container\" hidden><div class=\"sk-item sk-dashed-wrapped\"><div class=\"sk-label-container\"><div class=\"sk-label sk-toggleable\"><input class=\"sk-toggleable__control sk-hidden--visually\" id=\"sk-estimator-id-7\" type=\"checkbox\" ><label for=\"sk-estimator-id-7\" class=\"sk-toggleable__label sk-toggleable__label-arrow\">Pipeline</label><div class=\"sk-toggleable__content\"><pre>Pipeline(steps=[(&#x27;vectorizer&#x27;, TfidfVectorizer()),\n",
       "                (&#x27;classifier&#x27;,\n",
       "                 SVC(kernel=&#x27;linear&#x27;, probability=True, random_state=42))])</pre></div></div></div><div class=\"sk-serial\"><div class=\"sk-item\"><div class=\"sk-estimator sk-toggleable\"><input class=\"sk-toggleable__control sk-hidden--visually\" id=\"sk-estimator-id-8\" type=\"checkbox\" ><label for=\"sk-estimator-id-8\" class=\"sk-toggleable__label sk-toggleable__label-arrow\">TfidfVectorizer</label><div class=\"sk-toggleable__content\"><pre>TfidfVectorizer()</pre></div></div></div><div class=\"sk-item\"><div class=\"sk-estimator sk-toggleable\"><input class=\"sk-toggleable__control sk-hidden--visually\" id=\"sk-estimator-id-9\" type=\"checkbox\" ><label for=\"sk-estimator-id-9\" class=\"sk-toggleable__label sk-toggleable__label-arrow\">SVC</label><div class=\"sk-toggleable__content\"><pre>SVC(kernel=&#x27;linear&#x27;, probability=True, random_state=42)</pre></div></div></div></div></div></div></div>"
      ],
      "text/plain": [
       "Pipeline(steps=[('vectorizer', TfidfVectorizer()),\n",
       "                ('classifier',\n",
       "                 SVC(kernel='linear', probability=True, random_state=42))])"
      ]
     },
     "execution_count": 26,
     "metadata": {},
     "output_type": "execute_result"
    }
   ],
   "source": [
    "from sklearn.svm import SVC\n",
    "\n",
    "# Initialize the SVM classifier\n",
    "svm_classifier = SVC(kernel='linear', random_state=42, probability = True)\n",
    "\n",
    "\n",
    "modelSVM = Pipeline([('vectorizer', vectorizer),('classifier', svm_classifier)])\n",
    "# Train the classifier using the training data\n",
    "modelSVM.fit(X_train, y_train)"
   ]
  },
  {
   "cell_type": "code",
   "execution_count": 27,
   "id": "ee751a1c",
   "metadata": {},
   "outputs": [
    {
     "name": "stdout",
     "output_type": "stream",
     "text": [
      "Accuracy:  0.8470358624054648\n",
      "Precision:  0.9997564265324927\n",
      "Recall:  0.8470358624054648\n"
     ]
    }
   ],
   "source": [
    "from sklearn.metrics import accuracy_score, precision_score, recall_score\n",
    "\n",
    "print(\"Accuracy: \", accuracy_score(predictions, y_test))\n",
    "print(\"Precision: \", precision_score(predictions, y_test, average = 'weighted'))\n",
    "print(\"Recall: \", recall_score(predictions, y_test, average = 'weighted'))\n"
   ]
  },
  {
   "cell_type": "code",
   "execution_count": 28,
   "id": "f76c5dad",
   "metadata": {},
   "outputs": [
    {
     "name": "stdout",
     "output_type": "stream",
     "text": [
      "Train Score:  0.9742557345046364\n",
      "Test Score:  0.9355940473286167\n"
     ]
    }
   ],
   "source": [
    "print(\"Train Score: \", modelSVM.score(X_train, y_train))\n",
    "print(\"Test Score: \", modelSVM.score(X_test, y_test))"
   ]
  },
  {
   "cell_type": "markdown",
   "id": "2b5a84da",
   "metadata": {},
   "source": [
    "## SVM Model Testing"
   ]
  },
  {
   "cell_type": "code",
   "execution_count": 29,
   "id": "b00e7cce",
   "metadata": {},
   "outputs": [
    {
     "name": "stdout",
     "output_type": "stream",
     "text": [
      "['Negative']\n"
     ]
    }
   ],
   "source": [
    "example = [\"I like this hotel\"]\n",
    "\n",
    "def clean_text(text):\n",
    "    # Stopwords such as 'and', 'the' are stored in the stop variable\n",
    "    stop = set(stopwords.words('english'))\n",
    "    # Punctuation such as . , are stored in the punc variable\n",
    "    punc = set(punctuation)\n",
    "    # Create an instance for the WordNetLemmatizer class from the NLTK library\n",
    "    lemma = WordNetLemmatizer()\n",
    "    # Tokenization to split text into individual words or tokens.\n",
    "    tokens = word_tokenize(text)\n",
    "    # Filter out non-alphabetic characters\n",
    "    word_tokens = [t for t in tokens if t.isalpha()]\n",
    "    # Lowercase and lemmatize words that are not in the union of two sets: stop and punc \n",
    "    clean_tokens = [lemma.lemmatize(t.lower()) for t in word_tokens if t not in stop.union(punc)]\n",
    "    # Join the cleaned tokens into a single string\n",
    "    cleaned_text = ' '.join(clean_tokens)\n",
    "    return cleaned_text  # You need to return the cleaned text\n",
    "\n",
    "# Use list comprehension to clean each example in the list\n",
    "cleaned_examples = [clean_text(text) for text in example]\n",
    "\n",
    "# Now you can use the cleaned examples for prediction\n",
    "result = modelSVM.predict(cleaned_examples)\n",
    "print(result)\n"
   ]
  },
  {
   "cell_type": "markdown",
   "id": "5448fe69",
   "metadata": {},
   "source": [
    "### Hyperparameter Tuning\n",
    "Linear - data is expected to be linearly separable in the input space.\n",
    "\n",
    "Sigmoid - non-linear kernel that is often used in neural networks"
   ]
  },
  {
   "cell_type": "code",
   "execution_count": 31,
   "id": "aadbcde0",
   "metadata": {},
   "outputs": [
    {
     "data": {
      "text/html": [
       "<style>#sk-container-id-4 {color: black;}#sk-container-id-4 pre{padding: 0;}#sk-container-id-4 div.sk-toggleable {background-color: white;}#sk-container-id-4 label.sk-toggleable__label {cursor: pointer;display: block;width: 100%;margin-bottom: 0;padding: 0.3em;box-sizing: border-box;text-align: center;}#sk-container-id-4 label.sk-toggleable__label-arrow:before {content: \"▸\";float: left;margin-right: 0.25em;color: #696969;}#sk-container-id-4 label.sk-toggleable__label-arrow:hover:before {color: black;}#sk-container-id-4 div.sk-estimator:hover label.sk-toggleable__label-arrow:before {color: black;}#sk-container-id-4 div.sk-toggleable__content {max-height: 0;max-width: 0;overflow: hidden;text-align: left;background-color: #f0f8ff;}#sk-container-id-4 div.sk-toggleable__content pre {margin: 0.2em;color: black;border-radius: 0.25em;background-color: #f0f8ff;}#sk-container-id-4 input.sk-toggleable__control:checked~div.sk-toggleable__content {max-height: 200px;max-width: 100%;overflow: auto;}#sk-container-id-4 input.sk-toggleable__control:checked~label.sk-toggleable__label-arrow:before {content: \"▾\";}#sk-container-id-4 div.sk-estimator input.sk-toggleable__control:checked~label.sk-toggleable__label {background-color: #d4ebff;}#sk-container-id-4 div.sk-label input.sk-toggleable__control:checked~label.sk-toggleable__label {background-color: #d4ebff;}#sk-container-id-4 input.sk-hidden--visually {border: 0;clip: rect(1px 1px 1px 1px);clip: rect(1px, 1px, 1px, 1px);height: 1px;margin: -1px;overflow: hidden;padding: 0;position: absolute;width: 1px;}#sk-container-id-4 div.sk-estimator {font-family: monospace;background-color: #f0f8ff;border: 1px dotted black;border-radius: 0.25em;box-sizing: border-box;margin-bottom: 0.5em;}#sk-container-id-4 div.sk-estimator:hover {background-color: #d4ebff;}#sk-container-id-4 div.sk-parallel-item::after {content: \"\";width: 100%;border-bottom: 1px solid gray;flex-grow: 1;}#sk-container-id-4 div.sk-label:hover label.sk-toggleable__label {background-color: #d4ebff;}#sk-container-id-4 div.sk-serial::before {content: \"\";position: absolute;border-left: 1px solid gray;box-sizing: border-box;top: 0;bottom: 0;left: 50%;z-index: 0;}#sk-container-id-4 div.sk-serial {display: flex;flex-direction: column;align-items: center;background-color: white;padding-right: 0.2em;padding-left: 0.2em;position: relative;}#sk-container-id-4 div.sk-item {position: relative;z-index: 1;}#sk-container-id-4 div.sk-parallel {display: flex;align-items: stretch;justify-content: center;background-color: white;position: relative;}#sk-container-id-4 div.sk-item::before, #sk-container-id-4 div.sk-parallel-item::before {content: \"\";position: absolute;border-left: 1px solid gray;box-sizing: border-box;top: 0;bottom: 0;left: 50%;z-index: -1;}#sk-container-id-4 div.sk-parallel-item {display: flex;flex-direction: column;z-index: 1;position: relative;background-color: white;}#sk-container-id-4 div.sk-parallel-item:first-child::after {align-self: flex-end;width: 50%;}#sk-container-id-4 div.sk-parallel-item:last-child::after {align-self: flex-start;width: 50%;}#sk-container-id-4 div.sk-parallel-item:only-child::after {width: 0;}#sk-container-id-4 div.sk-dashed-wrapped {border: 1px dashed gray;margin: 0 0.4em 0.5em 0.4em;box-sizing: border-box;padding-bottom: 0.4em;background-color: white;}#sk-container-id-4 div.sk-label label {font-family: monospace;font-weight: bold;display: inline-block;line-height: 1.2em;}#sk-container-id-4 div.sk-label-container {text-align: center;}#sk-container-id-4 div.sk-container {/* jupyter's `normalize.less` sets `[hidden] { display: none; }` but bootstrap.min.css set `[hidden] { display: none !important; }` so we also need the `!important` here to be able to override the default hidden behavior on the sphinx rendered scikit-learn.org. See: https://github.com/scikit-learn/scikit-learn/issues/21755 */display: inline-block !important;position: relative;}#sk-container-id-4 div.sk-text-repr-fallback {display: none;}</style><div id=\"sk-container-id-4\" class=\"sk-top-container\"><div class=\"sk-text-repr-fallback\"><pre>Pipeline(steps=[(&#x27;vectorizer&#x27;, TfidfVectorizer()),\n",
       "                (&#x27;classifier&#x27;,\n",
       "                 SVC(kernel=&#x27;sigmoid&#x27;, probability=True, random_state=42))])</pre><b>In a Jupyter environment, please rerun this cell to show the HTML representation or trust the notebook. <br />On GitHub, the HTML representation is unable to render, please try loading this page with nbviewer.org.</b></div><div class=\"sk-container\" hidden><div class=\"sk-item sk-dashed-wrapped\"><div class=\"sk-label-container\"><div class=\"sk-label sk-toggleable\"><input class=\"sk-toggleable__control sk-hidden--visually\" id=\"sk-estimator-id-10\" type=\"checkbox\" ><label for=\"sk-estimator-id-10\" class=\"sk-toggleable__label sk-toggleable__label-arrow\">Pipeline</label><div class=\"sk-toggleable__content\"><pre>Pipeline(steps=[(&#x27;vectorizer&#x27;, TfidfVectorizer()),\n",
       "                (&#x27;classifier&#x27;,\n",
       "                 SVC(kernel=&#x27;sigmoid&#x27;, probability=True, random_state=42))])</pre></div></div></div><div class=\"sk-serial\"><div class=\"sk-item\"><div class=\"sk-estimator sk-toggleable\"><input class=\"sk-toggleable__control sk-hidden--visually\" id=\"sk-estimator-id-11\" type=\"checkbox\" ><label for=\"sk-estimator-id-11\" class=\"sk-toggleable__label sk-toggleable__label-arrow\">TfidfVectorizer</label><div class=\"sk-toggleable__content\"><pre>TfidfVectorizer()</pre></div></div></div><div class=\"sk-item\"><div class=\"sk-estimator sk-toggleable\"><input class=\"sk-toggleable__control sk-hidden--visually\" id=\"sk-estimator-id-12\" type=\"checkbox\" ><label for=\"sk-estimator-id-12\" class=\"sk-toggleable__label sk-toggleable__label-arrow\">SVC</label><div class=\"sk-toggleable__content\"><pre>SVC(kernel=&#x27;sigmoid&#x27;, probability=True, random_state=42)</pre></div></div></div></div></div></div></div>"
      ],
      "text/plain": [
       "Pipeline(steps=[('vectorizer', TfidfVectorizer()),\n",
       "                ('classifier',\n",
       "                 SVC(kernel='sigmoid', probability=True, random_state=42))])"
      ]
     },
     "execution_count": 31,
     "metadata": {},
     "output_type": "execute_result"
    }
   ],
   "source": [
    "svm_classifier1 = SVC(kernel='sigmoid', random_state=42, probability = True)\n",
    "\n",
    "\n",
    "modelSVM1 = Pipeline([('vectorizer', vectorizer),('classifier', svm_classifier1)])\n",
    "# Train the classifier using the training data\n",
    "modelSVM1.fit(X_train, y_train)"
   ]
  },
  {
   "cell_type": "code",
   "execution_count": 32,
   "id": "0f665105",
   "metadata": {},
   "outputs": [
    {
     "name": "stdout",
     "output_type": "stream",
     "text": [
      "Train Score:  0.9586383601756955\n",
      "Test Score:  0.9348621615028055\n"
     ]
    }
   ],
   "source": [
    "print(\"Train Score: \", modelSVM1.score(X_train, y_train))\n",
    "print(\"Test Score: \", modelSVM1.score(X_test, y_test))"
   ]
  },
  {
   "cell_type": "markdown",
   "id": "8e00f3eb",
   "metadata": {},
   "source": [
    "#### After changing the kernel to sigmoid, the performance is slightly worst than linear so will still remain the linear version of the model."
   ]
  },
  {
   "cell_type": "markdown",
   "id": "182b5fe4",
   "metadata": {},
   "source": [
    "<a id = '6.0'></a>\n",
    "<h2 style = \"font-size:35px; font-family:Garamond ; font-weight : normal; background-color: black; color : white; text-align: center; border-radius: 5px 5px; padding: 5px\"> 6. Export model </h2> "
   ]
  },
  {
   "cell_type": "code",
   "execution_count": 33,
   "id": "18c3f996",
   "metadata": {},
   "outputs": [
    {
     "data": {
      "text/plain": [
       "['review_detector.joblib']"
      ]
     },
     "execution_count": 33,
     "metadata": {},
     "output_type": "execute_result"
    }
   ],
   "source": [
    "import joblib\n",
    "joblib.dump(modelSVM, 'review_detector.joblib') \n"
   ]
  },
  {
   "cell_type": "code",
   "execution_count": 34,
   "id": "9e7db686",
   "metadata": {},
   "outputs": [],
   "source": [
    "model1 = joblib.load('review_detector.joblib')\n"
   ]
  },
  {
   "cell_type": "code",
   "execution_count": 35,
   "id": "be4f1422",
   "metadata": {},
   "outputs": [
    {
     "name": "stdout",
     "output_type": "stream",
     "text": [
      "['Negative']\n"
     ]
    }
   ],
   "source": [
    "example = [\"Restaurants with at least 4 items missing from the menu at least three times. \"]\n",
    "\n",
    "def clean_text(text):\n",
    "    # Stopwords such as 'and', 'the' are stored in the stop variable\n",
    "    stop = set(stopwords.words('english'))\n",
    "    # Punctuation such as . , are stored in the punc variable\n",
    "    punc = set(punctuation)\n",
    "    # Create an instance for the WordNetLemmatizer class from the NLTK library\n",
    "    lemma = WordNetLemmatizer()\n",
    "    # Tokenization to split text into individual words or tokens.\n",
    "    tokens = word_tokenize(text)\n",
    "    # Filter out non-alphabetic characters\n",
    "    word_tokens = [t for t in tokens if t.isalpha()]\n",
    "    # Lowercase and lemmatize words that are not in the union of two sets: stop and punc \n",
    "    clean_tokens = [lemma.lemmatize(t.lower()) for t in word_tokens if t not in stop.union(punc)]\n",
    "    # Join the cleaned tokens into a single string\n",
    "    cleaned_text = ' '.join(clean_tokens)\n",
    "    return cleaned_text  # You need to return the cleaned text\n",
    "\n",
    "# Use list comprehension to clean each example in the list\n",
    "cleaned_examples = [clean_text(text) for text in example]\n",
    "\n",
    "# Now you can use the cleaned examples for prediction\n",
    "result = model1.predict(cleaned_examples)\n",
    "print(result)\n"
   ]
  },
  {
   "cell_type": "markdown",
   "id": "dffa37cd",
   "metadata": {},
   "source": [
    "<a id = '7.0'></a>\n",
    "<h2 style = \"font-size:35px; font-family:Garamond ; font-weight : normal; background-color: black; color : white; text-align: center; border-radius: 5px 5px; padding: 5px\"> 7. Conclusion </h2> "
   ]
  },
  {
   "cell_type": "markdown",
   "id": "648ef224",
   "metadata": {},
   "source": [
    "In this project, three model were trained which are Multinomial Naive Bayes, Logistic Regression and SVM. SVM was choose as the final model because it has the highest accuracy.\n",
    "\n",
    "Train Score:  0.9742557345046364\n",
    "\n",
    "Test Score:  0.9355940473286167"
   ]
  },
  {
   "cell_type": "markdown",
   "id": "97a35eab",
   "metadata": {},
   "source": [
    "### Challenges Faced\n",
    "The challenges I faced is my model cannot classify correctly for short sentence. However, I found out the reason behind it is because all data in my dataset is long sentece. Hence, it explained why my model can't classify correctly for short sentence but can classify correctly for long sentence."
   ]
  },
  {
   "cell_type": "markdown",
   "id": "68628afa",
   "metadata": {},
   "source": [
    "### Future Work\n",
    "The current limitation of my model lies in its inability to accurately classify short sentences. For future improvements, researchers should consider incorporating more short sentences data. This enhancement would enable the model to achieve better accuracy in classifying both short and long sentences."
   ]
  },
  {
   "cell_type": "markdown",
   "id": "6d87ffb6",
   "metadata": {},
   "source": [
    "<a id = '8.0'></a>\n",
    "<h2 style = \"font-size:35px; font-family:Garamond ; font-weight : normal; background-color: black; color : white; text-align: center; border-radius: 5px 5px; padding: 5px\"> 8. Appendix </h2> "
   ]
  },
  {
   "cell_type": "markdown",
   "id": "db294061",
   "metadata": {},
   "source": [
    "## Web Scrapping\n",
    "After incorporating data from web scraping into the dataset, the overall quality deteriorated significantly. This was primarily because the scraped data was unreliable and inconsistent. For instance, there were cases where individuals wrote positive reviews but gave a low rating of 1 or 2 stars, and vice versa."
   ]
  },
  {
   "cell_type": "code",
   "execution_count": null,
   "id": "31fef118",
   "metadata": {},
   "outputs": [],
   "source": [
    "# import requests\n",
    "# from bs4 import BeautifulSoup as soup\n",
    "# import pandas as pd\n",
    "\n",
    "# # Function to generate URLs for a given base URL\n",
    "# def generate_urls(base_url, suffix, max_i):\n",
    "#     url_list = []\n",
    "#     for i in range(10, max_i, 10):\n",
    "#         url = f'{base_url}-or{i}-{suffix}'\n",
    "#         url_list.append(url)\n",
    "#     return url_list\n",
    "\n",
    "# # List of base URLs with corresponding suffixes\n",
    "# base_urls = [\n",
    "#         ('https://www.tripadvisor.com/Hotel_Review-g635527-d1485478-Reviews', '-Hard_Rock_Hotel_Penang-Batu_Ferringhi_Penang_Island_Penang.html',7980),\n",
    "\n",
    "# #     ('https://www.tripadvisor.com/Hotel_Review-g13808671-d8263705-Reviews', 'Cityinn_Hotel_Plus_Fuxing_N_Rd_Branch-Zhongshan_District_Taipei.html',360),\n",
    "# #     ('https://www.tripadvisor.com/Hotel_Review-g13811269-d302103-Reviews', 'Shangri_La_Far_Eastern_Taipei-Da_an_Taipei.html',1950),\n",
    "# #     ('https://www.tripadvisor.com/Hotel_Review-g13808853-d2017876-Reviews', 'CityInn_Hotel_Plus_Ximending_Branch-Zhongzheng_District_Taipei.html',1220),\n",
    "# #     ('', '',),\n",
    "# #     ('', '',),\n",
    "# ]\n",
    "\n",
    "\n",
    "# # # Links\n",
    "# # # 'https://www.tripadvisor.com/Hotel_Review-g298278-d11893205-Reviews'\n",
    "# # # 'https://www.tripadvisor.com/Hotel_Review-g298278-d2701415-Reviews'\n",
    "# # # https://www.tripadvisor.com/Hotel_Review-g298278-d10062232-Reviews\n",
    "# # # https://www.tripadvisor.com/Hotel_Review-g4564007-d14028309-Reviews\n",
    "# # # https://www.tripadvisor.com/Hotel_Review-g4564007-d1629838-Reviews\n",
    "# # # https://www.tripadvisor.com/Hotel_Review-g298307-d10260537-Reviews\n",
    "# # # https://www.tripadvisor.com/Hotel_Review-g298307-d307999-Reviews\n",
    "# # https://www.tripadvisor.com/Hotel_Review-g298307-d302155-Reviews\n",
    "# # https://www.tripadvisor.com/Hotel_Review-g298307-d305925-Reviews\n",
    "# # https://www.tripadvisor.com/Hotel_Review-g298307-d582314-Reviews\n",
    "# # https://www.tripadvisor.com/Hotel_Review-g298278-d24091135-Reviews\n",
    "# # https://www.tripadvisor.com/Hotel_Review-g298278-d4860383-Reviews\n",
    "# # https://www.tripadvisor.com/Hotel_Review-g294265-d302294-Reviews\n",
    "# # https://www.tripadvisor.com/Hotel_Review-g294265-d1770798-Reviews\n",
    "# # https://www.tripadvisor.com/Hotel_Review-g294265-d2178797-Reviews\n",
    "# # https://www.tripadvisor.com/Hotel_Review-g294265-d306161-Reviews\n",
    "# # https://www.tripadvisor.com/Hotel_Review-g294265-d1086295-Reviews\n",
    "# # https://www.tripadvisor.com/Hotel_Review-g294265-d12834200-Reviews\n",
    "# # https://www.tripadvisor.com/Hotel_Review-g294265-d300855-Reviews\n",
    "# # https://www.tripadvisor.com/Hotel_Review-g294265-d6530192-Reviews\n",
    "# # https://www.tripadvisor.com/Hotel_Review-g294265-d299199-Reviews\n",
    "# # https://www.tripadvisor.com/Hotel_Review-g294265-d4609397-Reviews\n",
    "# # https://www.tripadvisor.com/Hotel_Review-g294265-d4329102-Reviews\n",
    "# # https://www.tripadvisor.com/Hotel_Review-g15213439-d7907965-Reviews\n",
    "# # https://www.tripadvisor.com/Hotel_Review-g297701-d7022088-Reviews\n",
    "# # https://www.tripadvisor.com/Hotel_Review-g297701-d19413599-Reviews\n",
    "# # https://www.tripadvisor.com/Hotel_Review-g469404-d1772090-Reviews\n",
    "# # https://www.tripadvisor.com/Hotel_Review-g297697-d302343-Reviews\n",
    "# # https://www.tripadvisor.com/Hotel_Review-g469404-d1450614-Reviews\n",
    "# # https://www.tripadvisor.com/Hotel_Review-g297696-d302249-Reviews\n",
    "# # https://www.tripadvisor.com/Hotel_Review-g297696-d307571-Reviews\n",
    "# # https://www.tripadvisor.com/Hotel_Review-g297696-d299128-Reviews\n",
    "# # https://www.tripadvisor.com/Hotel_Review-g297696-d308412-Reviews\n",
    "# # https://www.tripadvisor.com/Hotel_Review-g297696-d5039579-Reviews\n",
    "# # https://www.tripadvisor.com/Hotel_Review-g660784-d506305-Reviews\n",
    "# # https://www.tripadvisor.com/Hotel_Review-g660784-d10451058-Reviews\n",
    "# # https://www.tripadvisor.com/Hotel_Review-g660784-d506062-Reviews\n",
    "# # https://www.tripadvisor.com/Hotel_Review-g298570-d302160-Reviews\n",
    "# # https://www.tripadvisor.com/Hotel_Review-g298570-d555433-Reviews\n",
    "\n",
    "# # # Links\n",
    "# # # -Amari_Johor_Bahru-Johor_Bahru_Johor_Bahru_District_Johor.html\n",
    "# # # -KSL_Hotel_Resort-Johor_Bahru_Johor_Bahru_District_Johor.html\n",
    "# # # -Holiday_Villa_Johor_Bahru_City_Centre-Johor_Bahru_Johor_Bahru_District_Johor.html\n",
    "# # # -Hard_Rock_Hotel_Desaru_Coast-Bandar_Penawar_Kota_Tinggi_District_Johor.html\n",
    "# # # -Lotus_Desaru_Beach_Resort_Spa-Bandar_Penawar_Kota_Tinggi_District_Johor.html\n",
    "# # # -Hilton_Kota_Kinabalu-Kota_Kinabalu_Kota_Kinabalu_District_West_Coast_Division_Sabah.html\n",
    "# # # -The_Pacific_Sutera_Hotel_Sutera_Harbour_Resort-Kota_Kinabalu_Kota_Kinabalu_District_Wes.html\n",
    "# # Shangri_La_Tanjung_Aru_Kota_Kinabalu-Kota_Kinabalu_Kota_Kinabalu_District_West_Coast_Di.html\n",
    "# # Hyatt_Regency_Kinabalu-Kota_Kinabalu_Kota_Kinabalu_District_West_Coast_Division_Sabah.html\n",
    "# # Le_Meridien_Kota_Kinabalu-Kota_Kinabalu_Kota_Kinabalu_District_West_Coast_Division_Saba.html\n",
    "# # -St_Giles_Southkey-Johor_Bahru_Johor_Bahru_District_Johor.html\n",
    "# # LEGOLAND_Hotel_Malaysia-Johor_Bahru_Johor_Bahru_District_Johor.html\n",
    "# # Pan_Pacific_Singapore-Singapore.html\n",
    "# # Marina_Bay_Sands-Singapore.html\n",
    "# # V_Hotel_Lavender-Singapore.html\n",
    "# # Carlton_Hotel_Singapore-Singapore.html\n",
    "# # Crowne_Plaza_Changi_Airport_an_IHG_Hotel-Singapore.html\n",
    "# # Hotel_Mi-Singapore.html\n",
    "# # PARKROYAL_COLLECTION_Marina_Bay_Singapore-Singapore.html\n",
    "# # One_Farrer_Hotel-Singapore.html\n",
    "# # InterContinental_Singapore_an_IHG_Hotel-Singapore.html\n",
    "# # V_Hotel_Bencoolen-Singapore.html\n",
    "# # Hotel_G_Singapore-Singapore.html\n",
    "# # Padma_Resort_Ubud-Puhu_Payangan_Gianyar_Regency_Bali.html\n",
    "# # The_Kayon_Resort-Ubud_Gianyar_Regency_Bali.html\n",
    "# # Adiwana_Unagi_Suites-Ubud_Gianyar_Regency_Bali.html\n",
    "# # The_Seminyak_Beach_Resort_Spa-Seminyak_Kuta_District_Bali.html\n",
    "# # Hard_Rock_Hotel_Bali-Kuta_Kuta_District_Bali.html\n",
    "# # The_Haven_Bali_Seminyak-Seminyak_Kuta_District_Bali.html\n",
    "# # AYANA_Resort_Bali-Jimbaran_South_Kuta_Bali.html\n",
    "# # Four_Seasons_Resort_Bali_at_Jimbaran_Bay-Jimbaran_South_Kuta_Bali.html\n",
    "# # InterContinental_Bali_Resort_an_IHG_Hotel-Jimbaran_South_Kuta_Bali.html\n",
    "# # Keraton_Jimbaran_Resort-Jimbaran_South_Kuta_Bali.html\n",
    "# # Rimba_By_Ayana_Bali-Jimbaran_South_Kuta_Bali.html\n",
    "# # First_World_Hotel-Genting_Highlands_Pahang.html\n",
    "# # Grand_Ion_Delemen_Hotel-Genting_Highlands_Pahang.html\n",
    "# # Resorts_World_Awana-Genting_Highlands_Pahang.html\n",
    "# # Shangri_La_Kuala_Lumpur-Kuala_Lumpur_Wilayah_Persekutuan.html\n",
    "# # Hilton_Kuala_Lumpur-Kuala_Lumpur_Wilayah_Persekutuan.html\n",
    "\n",
    "# # Initialize an empty list to store all extracted comments\n",
    "# extracted_comments = []\n",
    "\n",
    "# # Loop through base URLs and their corresponding suffixes\n",
    "# for base_url, suffix, max_i in base_urls:\n",
    "#     urls = generate_urls(base_url, suffix, max_i)\n",
    "#     for url in urls:\n",
    "#         print(url)\n",
    "#         response = requests.get(url, headers={'User-Agent': \"Mozilla/5.0\"})\n",
    "#         if response.status_code == 200:\n",
    "#             bsobj = soup(response.content, 'lxml')\n",
    "#             # Find all elements with class=\"WAllg _T\" within class=\"uNacK PS\"\n",
    "#             reviews = bsobj.select('.uNacK.PS .WAllg._T')\n",
    "\n",
    "#             # Loop through the reviews and extract data\n",
    "#             for review in reviews:\n",
    "#                 rating_span_10 = review.select_one('.ui_bubble_rating.bubble_10')\n",
    "#                 rating_span_20 = review.select_one('.ui_bubble_rating.bubble_20')\n",
    "#                 if rating_span_10 or rating_span_20:\n",
    "#                     review_text = review.select_one('.QewHA.H4._a span').text\n",
    "#                     extracted_comments.append(review_text)\n",
    "#                     print(review_text)\n",
    "#             else:\n",
    "#                 print(\"No comments found for the specified rating.\")\n",
    "#         else:\n",
    "#             print(f\"Failed to fetch data from URL: {url}\")\n",
    "\n",
    "# # Create a DataFrame from the list of comments\n",
    "# df = pd.DataFrame({'Comments': extracted_comments})\n",
    "\n",
    "# # Save the DataFrame to an Excel file\n",
    "# df.to_excel('comments2.xlsx', index=False)\n"
   ]
  },
  {
   "cell_type": "markdown",
   "id": "601213ea",
   "metadata": {},
   "source": [
    "## Deployment\n",
    "https://nlp-project-scott.streamlit.app/"
   ]
  },
  {
   "cell_type": "code",
   "execution_count": null,
   "id": "26f0fa0f",
   "metadata": {},
   "outputs": [],
   "source": []
  }
 ],
 "metadata": {
  "kernelspec": {
   "display_name": "Python 3 (ipykernel)",
   "language": "python",
   "name": "python3"
  },
  "language_info": {
   "codemirror_mode": {
    "name": "ipython",
    "version": 3
   },
   "file_extension": ".py",
   "mimetype": "text/x-python",
   "name": "python",
   "nbconvert_exporter": "python",
   "pygments_lexer": "ipython3",
   "version": "3.11.4"
  }
 },
 "nbformat": 4,
 "nbformat_minor": 5
}
